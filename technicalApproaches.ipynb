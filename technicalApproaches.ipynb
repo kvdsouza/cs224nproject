{
  "cells": [
    {
      "cell_type": "markdown",
      "metadata": {
        "id": "o58cBJNNMiux"
      },
      "source": [
        "This notebook implements bag of words on our dataset"
      ]
    },
    {
      "cell_type": "code",
      "execution_count": null,
      "metadata": {
        "id": "YfeQ2BY2IGlp"
      },
      "outputs": [],
      "source": [
        "import numpy as np\n",
        "import pandas as pd\n",
        "import matplotlib.pyplot as plt\n",
        "import nltk, random\n"
      ]
    },
    {
      "cell_type": "code",
      "execution_count": null,
      "metadata": {
        "colab": {
          "base_uri": "https://localhost:8080/"
        },
        "id": "BJ4j1E1PONun",
        "outputId": "0c253fd8-e83e-4a08-92a4-91d74b47c11e"
      },
      "outputs": [
        {
          "output_type": "stream",
          "name": "stdout",
          "text": [
            "Mounted at /content/drive\n"
          ]
        }
      ],
      "source": [
        "from google.colab import drive\n",
        "drive.mount('/content/drive', force_remount = True)"
      ]
    },
    {
      "cell_type": "code",
      "execution_count": null,
      "metadata": {
        "colab": {
          "base_uri": "https://localhost:8080/"
        },
        "id": "h6aa_NJ5OW4y",
        "outputId": "f1875efc-63f5-41b3-874d-d48d2c28356e"
      },
      "outputs": [
        {
          "output_type": "stream",
          "name": "stdout",
          "text": [
            "aapl-20210327-10-q.txt\tbagOfWordsGroup.ipynb\tgoog-20211231-10-k.txt\n",
            "aapl-20210626-10-q.txt\tfb-20210630-10-q.txt\tnflx-20210630-10-q.txt\n",
            "aapl-20210925-10-k.txt\tfb-20210930-10-q.txt\tnflx-20210930-10-q.txt\n",
            "amzn-20210630-10-q.txt\tfb-20211231-10-k.txt\tnflx-20211231-10-k.txt\n",
            "amzn-20210930-10-q.txt\tgoog-20210630-10-q.txt\tsp500.csv\n",
            "amzn-20211231-10-k.txt\tgoog-20210930-10-q.txt\tstocks.xlsx\n"
          ]
        }
      ],
      "source": [
        "import os\n",
        "!ls \"/content/drive/My Drive/CS224N DATA\""
      ]
    },
    {
      "cell_type": "code",
      "execution_count": null,
      "metadata": {
        "id": "Hqp8Ej_tPULW"
      },
      "outputs": [],
      "source": [
        "#run to increase field_size_limit of the csv file\n",
        "import sys\n",
        "import csv\n",
        "maxInt = sys.maxsize\n",
        "while True:\n",
        "    # decrease the maxInt value by factor 10\n",
        "    # as long as the OverflowError occurs.\n",
        "    try:\n",
        "        csv.field_size_limit(maxInt)\n",
        "        break\n",
        "    except OverflowError:\n",
        "        maxInt = int(maxInt/10)"
      ]
    },
    {
      "cell_type": "code",
      "execution_count": null,
      "metadata": {
        "id": "nJmT9O03Mh-_"
      },
      "outputs": [],
      "source": [
        "df = pd.read_csv('/content/drive/My Drive/CS224N DATA/sp500.csv', sep='~', engine='python')"
      ]
    },
    {
      "cell_type": "markdown",
      "metadata": {
        "id": "j97kRb6-NBC2"
      },
      "source": [
        "Data is read as: ticker - date - volat3 - volat7 - volat15 - volat30 - Kvolat3 - Kvolat7 - Kvolat15 - Kvolat30 - transcript\n"
      ]
    },
    {
      "cell_type": "code",
      "execution_count": null,
      "metadata": {
        "colab": {
          "base_uri": "https://localhost:8080/"
        },
        "id": "JU_vFDWjNPAs",
        "outputId": "0d27e473-b001-4ce5-b693-e1d4ff5d1283"
      },
      "outputs": [
        {
          "output_type": "execute_result",
          "data": {
            "text/plain": [
              "<bound method NDFrame.head of       ticker  year  quarter   id     t        date    volat3    volat7  \\\n",
              "0          A  2006        2    1   345   5/16/2006 -0.081151 -0.101904   \n",
              "1          A  2006        3    1   408   8/15/2006  0.154107  0.132567   \n",
              "2          A  2006        4    1   472  11/14/2006 -0.026609 -0.011770   \n",
              "3          A  2007        1    1   535   2/16/2007 -0.013323 -0.003462   \n",
              "4          A  2007        2    1   595   5/15/2007  0.039758  0.035938   \n",
              "...      ...   ...      ...  ...   ...         ...       ...       ...   \n",
              "24081    ZTS  2020        2  495  1892    8/6/2020  0.024772  0.049800   \n",
              "24082    ZTS  2020        3  495  1957   11/6/2020 -0.016482  0.011021   \n",
              "24083    ZTS  2020        4  495  2024   2/16/2021  0.019983  0.010845   \n",
              "24084    ZTS  2021        2  495  2143    8/5/2021 -0.013147 -0.013358   \n",
              "24085    ZTS  2021        3  495  2207   11/4/2021  0.021570  0.023973   \n",
              "\n",
              "        volat15   volat30   Kvolat3   Kvolat7  Kvolat15  Kvolat30  \\\n",
              "0     -0.106044 -0.126091 -3.817327 -4.195840 -4.412217 -4.328459   \n",
              "1      0.120317  0.092741 -3.549376 -3.742952 -3.841390 -3.761206   \n",
              "2     -0.016055  0.025393 -5.279222 -4.155949 -4.221972 -4.346753   \n",
              "3     -0.015071 -0.017384 -4.311276 -4.457299 -4.497159 -4.502518   \n",
              "4      0.059443  0.079331 -3.994754 -4.120073 -4.050324 -4.277250   \n",
              "...         ...       ...       ...       ...       ...       ...   \n",
              "24081  0.074651  0.119321 -5.386590 -4.873607 -4.737468 -4.377663   \n",
              "24082  0.010490 -0.005266 -3.315687 -3.512918 -3.790701 -4.000851   \n",
              "24083 -0.015120 -0.038786 -4.805352 -4.856074 -4.108209 -4.266859   \n",
              "24084  0.008697  0.040069 -5.292919 -5.237243 -4.720098 -4.757504   \n",
              "24085  0.057279  0.102230 -5.876018 -4.525073 -4.668914 -4.390176   \n",
              "\n",
              "                                              transcript  \n",
              "0      Operator: Good day ladies and gentlemen and we...  \n",
              "1      Operator: Good day, ladies and gentlemen, and ...  \n",
              "2      Operator: Good day ladies and gentlemen and we...  \n",
              "3      Operator: Good day, ladies and gentlemen, and ...  \n",
              "4      Operator: Good day, ladies and gentlemen, and ...  \n",
              "...                                                  ...  \n",
              "24081  Operator: Welcome to the Second Quarter 2020 F...  \n",
              "24082  Operator: Welcome to the Third quarter 2020 Fi...  \n",
              "24083  Operator: Welcome to the Fourth Quarter and Fu...  \n",
              "24084  Operator: Welcome to the Second Quarter 2021 F...  \n",
              "24085  Operator: Welcome to the Third Quarter 2021 fi...  \n",
              "\n",
              "[24086 rows x 15 columns]>"
            ]
          },
          "metadata": {},
          "execution_count": 6
        }
      ],
      "source": [
        "df.head"
      ]
    },
    {
      "cell_type": "code",
      "execution_count": null,
      "metadata": {
        "colab": {
          "base_uri": "https://localhost:8080/"
        },
        "id": "VBlkP5aDSaYb",
        "outputId": "5576232a-bca4-4f7f-d5a1-be9b9d1c6a9a"
      },
      "outputs": [
        {
          "output_type": "stream",
          "name": "stdout",
          "text": [
            "0          A\n",
            "1          A\n",
            "2          A\n",
            "3          A\n",
            "4          A\n",
            "        ... \n",
            "24081    ZTS\n",
            "24082    ZTS\n",
            "24083    ZTS\n",
            "24084    ZTS\n",
            "24085    ZTS\n",
            "Name: ticker, Length: 24086, dtype: object\n",
            "0       -0.081151\n",
            "1        0.154107\n",
            "2       -0.026609\n",
            "3       -0.013323\n",
            "4        0.039758\n",
            "           ...   \n",
            "24081    0.024772\n",
            "24082   -0.016482\n",
            "24083    0.019983\n",
            "24084   -0.013147\n",
            "24085    0.021570\n",
            "Name: volat3, Length: 24086, dtype: float64\n",
            "0    A\n",
            "1    A\n",
            "2    A\n",
            "3    A\n",
            "4    A\n",
            "5    A\n",
            "6    A\n",
            "7    A\n",
            "8    A\n",
            "9    A\n",
            "Name: ticker, dtype: object\n",
            "0    Operator: Good day ladies and gentlemen and we...\n",
            "1    Operator: Good day, ladies and gentlemen, and ...\n",
            "2    Operator: Good day ladies and gentlemen and we...\n",
            "3    Operator: Good day, ladies and gentlemen, and ...\n",
            "4    Operator: Good day, ladies and gentlemen, and ...\n",
            "5    Operator: Good day ladies and gentlemen, and w...\n",
            "6    Operator: Good day, ladies and gentlemen, and ...\n",
            "7    Operator: Good day, ladies and gentlemen, and ...\n",
            "8    Operator: Good day, ladies and gentlemen, and ...\n",
            "9    Operator: (Operator Instructions) Welcome to t...\n",
            "Name: transcript, dtype: object\n"
          ]
        }
      ],
      "source": [
        "print(df.ticker)\n",
        "print(df.volat3)\n",
        "print(df.ticker[:10])\n",
        "print(df.transcript[:10])"
      ]
    },
    {
      "cell_type": "code",
      "execution_count": null,
      "metadata": {
        "colab": {
          "base_uri": "https://localhost:8080/",
          "height": 336
        },
        "id": "vuffw-K-Qe_O",
        "outputId": "9edd8e07-c085-4d86-ee59-bef14804a90b"
      },
      "outputs": [
        {
          "output_type": "execute_result",
          "data": {
            "text/plain": [
              "  ticker  year  quarter  id    t        date    volat3    volat7   volat15  \\\n",
              "0      A  2006        2   1  345   5/16/2006 -0.081151 -0.101904 -0.106044   \n",
              "1      A  2006        3   1  408   8/15/2006  0.154107  0.132567  0.120317   \n",
              "2      A  2006        4   1  472  11/14/2006 -0.026609 -0.011770 -0.016055   \n",
              "3      A  2007        1   1  535   2/16/2007 -0.013323 -0.003462 -0.015071   \n",
              "4      A  2007        2   1  595   5/15/2007  0.039758  0.035938  0.059443   \n",
              "\n",
              "    volat30   Kvolat3   Kvolat7  Kvolat15  Kvolat30  \\\n",
              "0 -0.126091 -3.817327 -4.195840 -4.412217 -4.328459   \n",
              "1  0.092741 -3.549376 -3.742952 -3.841390 -3.761206   \n",
              "2  0.025393 -5.279222 -4.155949 -4.221972 -4.346753   \n",
              "3 -0.017384 -4.311276 -4.457299 -4.497159 -4.502518   \n",
              "4  0.079331 -3.994754 -4.120073 -4.050324 -4.277250   \n",
              "\n",
              "                                          transcript  \n",
              "0  Operator: Good day ladies and gentlemen and we...  \n",
              "1  Operator: Good day, ladies and gentlemen, and ...  \n",
              "2  Operator: Good day ladies and gentlemen and we...  \n",
              "3  Operator: Good day, ladies and gentlemen, and ...  \n",
              "4  Operator: Good day, ladies and gentlemen, and ...  "
            ],
            "text/html": [
              "\n",
              "  <div id=\"df-f2e50e55-04cb-4693-a78d-9d1cc4141dc4\">\n",
              "    <div class=\"colab-df-container\">\n",
              "      <div>\n",
              "<style scoped>\n",
              "    .dataframe tbody tr th:only-of-type {\n",
              "        vertical-align: middle;\n",
              "    }\n",
              "\n",
              "    .dataframe tbody tr th {\n",
              "        vertical-align: top;\n",
              "    }\n",
              "\n",
              "    .dataframe thead th {\n",
              "        text-align: right;\n",
              "    }\n",
              "</style>\n",
              "<table border=\"1\" class=\"dataframe\">\n",
              "  <thead>\n",
              "    <tr style=\"text-align: right;\">\n",
              "      <th></th>\n",
              "      <th>ticker</th>\n",
              "      <th>year</th>\n",
              "      <th>quarter</th>\n",
              "      <th>id</th>\n",
              "      <th>t</th>\n",
              "      <th>date</th>\n",
              "      <th>volat3</th>\n",
              "      <th>volat7</th>\n",
              "      <th>volat15</th>\n",
              "      <th>volat30</th>\n",
              "      <th>Kvolat3</th>\n",
              "      <th>Kvolat7</th>\n",
              "      <th>Kvolat15</th>\n",
              "      <th>Kvolat30</th>\n",
              "      <th>transcript</th>\n",
              "    </tr>\n",
              "  </thead>\n",
              "  <tbody>\n",
              "    <tr>\n",
              "      <th>0</th>\n",
              "      <td>A</td>\n",
              "      <td>2006</td>\n",
              "      <td>2</td>\n",
              "      <td>1</td>\n",
              "      <td>345</td>\n",
              "      <td>5/16/2006</td>\n",
              "      <td>-0.081151</td>\n",
              "      <td>-0.101904</td>\n",
              "      <td>-0.106044</td>\n",
              "      <td>-0.126091</td>\n",
              "      <td>-3.817327</td>\n",
              "      <td>-4.195840</td>\n",
              "      <td>-4.412217</td>\n",
              "      <td>-4.328459</td>\n",
              "      <td>Operator: Good day ladies and gentlemen and we...</td>\n",
              "    </tr>\n",
              "    <tr>\n",
              "      <th>1</th>\n",
              "      <td>A</td>\n",
              "      <td>2006</td>\n",
              "      <td>3</td>\n",
              "      <td>1</td>\n",
              "      <td>408</td>\n",
              "      <td>8/15/2006</td>\n",
              "      <td>0.154107</td>\n",
              "      <td>0.132567</td>\n",
              "      <td>0.120317</td>\n",
              "      <td>0.092741</td>\n",
              "      <td>-3.549376</td>\n",
              "      <td>-3.742952</td>\n",
              "      <td>-3.841390</td>\n",
              "      <td>-3.761206</td>\n",
              "      <td>Operator: Good day, ladies and gentlemen, and ...</td>\n",
              "    </tr>\n",
              "    <tr>\n",
              "      <th>2</th>\n",
              "      <td>A</td>\n",
              "      <td>2006</td>\n",
              "      <td>4</td>\n",
              "      <td>1</td>\n",
              "      <td>472</td>\n",
              "      <td>11/14/2006</td>\n",
              "      <td>-0.026609</td>\n",
              "      <td>-0.011770</td>\n",
              "      <td>-0.016055</td>\n",
              "      <td>0.025393</td>\n",
              "      <td>-5.279222</td>\n",
              "      <td>-4.155949</td>\n",
              "      <td>-4.221972</td>\n",
              "      <td>-4.346753</td>\n",
              "      <td>Operator: Good day ladies and gentlemen and we...</td>\n",
              "    </tr>\n",
              "    <tr>\n",
              "      <th>3</th>\n",
              "      <td>A</td>\n",
              "      <td>2007</td>\n",
              "      <td>1</td>\n",
              "      <td>1</td>\n",
              "      <td>535</td>\n",
              "      <td>2/16/2007</td>\n",
              "      <td>-0.013323</td>\n",
              "      <td>-0.003462</td>\n",
              "      <td>-0.015071</td>\n",
              "      <td>-0.017384</td>\n",
              "      <td>-4.311276</td>\n",
              "      <td>-4.457299</td>\n",
              "      <td>-4.497159</td>\n",
              "      <td>-4.502518</td>\n",
              "      <td>Operator: Good day, ladies and gentlemen, and ...</td>\n",
              "    </tr>\n",
              "    <tr>\n",
              "      <th>4</th>\n",
              "      <td>A</td>\n",
              "      <td>2007</td>\n",
              "      <td>2</td>\n",
              "      <td>1</td>\n",
              "      <td>595</td>\n",
              "      <td>5/15/2007</td>\n",
              "      <td>0.039758</td>\n",
              "      <td>0.035938</td>\n",
              "      <td>0.059443</td>\n",
              "      <td>0.079331</td>\n",
              "      <td>-3.994754</td>\n",
              "      <td>-4.120073</td>\n",
              "      <td>-4.050324</td>\n",
              "      <td>-4.277250</td>\n",
              "      <td>Operator: Good day, ladies and gentlemen, and ...</td>\n",
              "    </tr>\n",
              "  </tbody>\n",
              "</table>\n",
              "</div>\n",
              "      <button class=\"colab-df-convert\" onclick=\"convertToInteractive('df-f2e50e55-04cb-4693-a78d-9d1cc4141dc4')\"\n",
              "              title=\"Convert this dataframe to an interactive table.\"\n",
              "              style=\"display:none;\">\n",
              "        \n",
              "  <svg xmlns=\"http://www.w3.org/2000/svg\" height=\"24px\"viewBox=\"0 0 24 24\"\n",
              "       width=\"24px\">\n",
              "    <path d=\"M0 0h24v24H0V0z\" fill=\"none\"/>\n",
              "    <path d=\"M18.56 5.44l.94 2.06.94-2.06 2.06-.94-2.06-.94-.94-2.06-.94 2.06-2.06.94zm-11 1L8.5 8.5l.94-2.06 2.06-.94-2.06-.94L8.5 2.5l-.94 2.06-2.06.94zm10 10l.94 2.06.94-2.06 2.06-.94-2.06-.94-.94-2.06-.94 2.06-2.06.94z\"/><path d=\"M17.41 7.96l-1.37-1.37c-.4-.4-.92-.59-1.43-.59-.52 0-1.04.2-1.43.59L10.3 9.45l-7.72 7.72c-.78.78-.78 2.05 0 2.83L4 21.41c.39.39.9.59 1.41.59.51 0 1.02-.2 1.41-.59l7.78-7.78 2.81-2.81c.8-.78.8-2.07 0-2.86zM5.41 20L4 18.59l7.72-7.72 1.47 1.35L5.41 20z\"/>\n",
              "  </svg>\n",
              "      </button>\n",
              "      \n",
              "  <style>\n",
              "    .colab-df-container {\n",
              "      display:flex;\n",
              "      flex-wrap:wrap;\n",
              "      gap: 12px;\n",
              "    }\n",
              "\n",
              "    .colab-df-convert {\n",
              "      background-color: #E8F0FE;\n",
              "      border: none;\n",
              "      border-radius: 50%;\n",
              "      cursor: pointer;\n",
              "      display: none;\n",
              "      fill: #1967D2;\n",
              "      height: 32px;\n",
              "      padding: 0 0 0 0;\n",
              "      width: 32px;\n",
              "    }\n",
              "\n",
              "    .colab-df-convert:hover {\n",
              "      background-color: #E2EBFA;\n",
              "      box-shadow: 0px 1px 2px rgba(60, 64, 67, 0.3), 0px 1px 3px 1px rgba(60, 64, 67, 0.15);\n",
              "      fill: #174EA6;\n",
              "    }\n",
              "\n",
              "    [theme=dark] .colab-df-convert {\n",
              "      background-color: #3B4455;\n",
              "      fill: #D2E3FC;\n",
              "    }\n",
              "\n",
              "    [theme=dark] .colab-df-convert:hover {\n",
              "      background-color: #434B5C;\n",
              "      box-shadow: 0px 1px 3px 1px rgba(0, 0, 0, 0.15);\n",
              "      filter: drop-shadow(0px 1px 2px rgba(0, 0, 0, 0.3));\n",
              "      fill: #FFFFFF;\n",
              "    }\n",
              "  </style>\n",
              "\n",
              "      <script>\n",
              "        const buttonEl =\n",
              "          document.querySelector('#df-f2e50e55-04cb-4693-a78d-9d1cc4141dc4 button.colab-df-convert');\n",
              "        buttonEl.style.display =\n",
              "          google.colab.kernel.accessAllowed ? 'block' : 'none';\n",
              "\n",
              "        async function convertToInteractive(key) {\n",
              "          const element = document.querySelector('#df-f2e50e55-04cb-4693-a78d-9d1cc4141dc4');\n",
              "          const dataTable =\n",
              "            await google.colab.kernel.invokeFunction('convertToInteractive',\n",
              "                                                     [key], {});\n",
              "          if (!dataTable) return;\n",
              "\n",
              "          const docLinkHtml = 'Like what you see? Visit the ' +\n",
              "            '<a target=\"_blank\" href=https://colab.research.google.com/notebooks/data_table.ipynb>data table notebook</a>'\n",
              "            + ' to learn more about interactive tables.';\n",
              "          element.innerHTML = '';\n",
              "          dataTable['output_type'] = 'display_data';\n",
              "          await google.colab.output.renderOutput(dataTable, element);\n",
              "          const docLink = document.createElement('div');\n",
              "          docLink.innerHTML = docLinkHtml;\n",
              "          element.appendChild(docLink);\n",
              "        }\n",
              "      </script>\n",
              "    </div>\n",
              "  </div>\n",
              "  "
            ]
          },
          "metadata": {},
          "execution_count": 8
        }
      ],
      "source": [
        "from sklearn.model_selection import train_test_split\n",
        "#train, test = train_test_split(df, test_size=0.2)\n",
        "validation_years= [2008,2012, 2016, 2020]\n",
        "validation = df[df['year'].isin(validation_years)]\n",
        "test_years = [2009, 2013, 2017, 2021]\n",
        "test = df[df['year'].isin(test_years)]\n",
        "train = df[~df['year'].isin(validation_years+test_years)]\n",
        "\n",
        "\n",
        "train[:5]\n",
        "#test[:5]\n",
        "#validation[:5]"
      ]
    },
    {
      "cell_type": "code",
      "source": [
        "def normalize_list_numpy(list):\n",
        "    #normalized_list = list / np.linalg.norm(list)\n",
        "    #return normalized_list\n",
        "    return (list - list.mean()) / list.std()\n"
      ],
      "metadata": {
        "id": "VwetXHwmpra_"
      },
      "execution_count": null,
      "outputs": []
    },
    {
      "cell_type": "markdown",
      "source": [
        "Normalize and Come Up with Simple Train Test"
      ],
      "metadata": {
        "id": "LUECmeoFpwfl"
      }
    },
    {
      "cell_type": "code",
      "execution_count": null,
      "metadata": {
        "colab": {
          "base_uri": "https://localhost:8080/"
        },
        "id": "pczZzam1gLZP",
        "outputId": "c4ef535e-3cd9-45e8-ac0a-7bd7d8836469"
      },
      "outputs": [
        {
          "output_type": "stream",
          "name": "stdout",
          "text": [
            "11160\n",
            "6323\n",
            "0       -0.081151\n",
            "1        0.154107\n",
            "2       -0.026609\n",
            "3       -0.013323\n",
            "4        0.039758\n",
            "           ...   \n",
            "24075    0.063053\n",
            "24076    0.007835\n",
            "24077    0.066116\n",
            "24078   -0.041637\n",
            "24079    0.010329\n",
            "Name: volat3, Length: 11160, dtype: float64\n",
            "10      -0.158947\n",
            "11      -0.016771\n",
            "12       0.047521\n",
            "13       0.069545\n",
            "24      -0.053746\n",
            "           ...   \n",
            "24069    0.052335\n",
            "24070   -0.028567\n",
            "24071    0.079072\n",
            "24084   -0.013147\n",
            "24085    0.021570\n",
            "Name: volat3, Length: 6323, dtype: float64\n"
          ]
        }
      ],
      "source": [
        "from sklearn.preprocessing import StandardScaler\n",
        "\n",
        "X_train = train.transcript\n",
        "X_train[:5]\n",
        "print(len(X_train))\n",
        "X_test = test.transcript\n",
        "X_test[:5]\n",
        "print(len(X_test))\n",
        "\n",
        "y_train = train.volat3 \n",
        "y_test = test.volat3\n",
        "print(y_train)\n",
        "print(y_test)\n",
        "\n"
      ]
    },
    {
      "cell_type": "code",
      "source": [
        "y_train = normalize_list_numpy(y_train)\n",
        "y_test = normalize_list_numpy(y_test)\n",
        "print(y_train)\n",
        "print(y_test)"
      ],
      "metadata": {
        "colab": {
          "base_uri": "https://localhost:8080/"
        },
        "id": "31rlsDW3pviC",
        "outputId": "c4c9a94a-4525-4a72-d5c8-de325b1d724f"
      },
      "execution_count": null,
      "outputs": [
        {
          "output_type": "stream",
          "name": "stdout",
          "text": [
            "0       -1.458699\n",
            "1        2.534162\n",
            "2       -0.533006\n",
            "3       -0.307508\n",
            "4        0.593402\n",
            "           ...   \n",
            "24075    0.988777\n",
            "24076    0.051590\n",
            "24077    1.040761\n",
            "24078   -0.788066\n",
            "24079    0.093924\n",
            "Name: volat3, Length: 11160, dtype: float64\n",
            "10      -2.778035\n",
            "11      -0.392942\n",
            "12       0.685611\n",
            "13       1.055079\n",
            "24      -1.013224\n",
            "           ...   \n",
            "24069    0.766359\n",
            "24070   -0.590822\n",
            "24071    1.214898\n",
            "24084   -0.332146\n",
            "24085    0.250258\n",
            "Name: volat3, Length: 6323, dtype: float64\n"
          ]
        }
      ]
    },
    {
      "cell_type": "markdown",
      "metadata": {
        "id": "IjyqB8NvSjcR"
      },
      "source": [
        "Text Vectorization"
      ]
    },
    {
      "cell_type": "code",
      "execution_count": null,
      "metadata": {
        "id": "bpaATBdbhsgk"
      },
      "outputs": [],
      "source": [
        "from sklearn.feature_extraction.text import CountVectorizer, TfidfVectorizer\n",
        "\n",
        "tfidf_vec = TfidfVectorizer(min_df = 10, token_pattern = r'[a-zA-Z]+')\n",
        "X_train_bow = tfidf_vec.fit_transform(X_train) # fit train\n",
        "X_test_bow = tfidf_vec.transform(X_test) # transform test"
      ]
    },
    {
      "cell_type": "code",
      "execution_count": null,
      "metadata": {
        "colab": {
          "base_uri": "https://localhost:8080/"
        },
        "id": "m3CtZI2DSeBJ",
        "outputId": "c5f856ef-5652-4441-de73-b482f071ec54"
      },
      "outputs": [
        {
          "output_type": "stream",
          "name": "stdout",
          "text": [
            "(11160, 33742)\n",
            "(6323, 33742)\n"
          ]
        }
      ],
      "source": [
        "print(X_train_bow.shape)\n",
        "print(X_test_bow.shape)"
      ]
    },
    {
      "cell_type": "markdown",
      "metadata": {
        "id": "Tepc1M2KS9fr"
      },
      "source": [
        "1.4. Model Selection and Cross Validation"
      ]
    },
    {
      "cell_type": "markdown",
      "metadata": {
        "id": "TiagH5aIFaJB"
      },
      "source": [
        "KNN"
      ]
    },
    {
      "cell_type": "code",
      "execution_count": null,
      "metadata": {
        "id": "mvkydDWuFZf3"
      },
      "outputs": [],
      "source": [
        "from sklearn.preprocessing import StandardScaler"
      ]
    },
    {
      "cell_type": "code",
      "execution_count": null,
      "metadata": {
        "id": "aZ_JT6s4FVcQ"
      },
      "outputs": [],
      "source": [
        "from sklearn.preprocessing import StandardScaler\n",
        "\n",
        "scaler = StandardScaler()"
      ]
    },
    {
      "cell_type": "code",
      "execution_count": null,
      "metadata": {
        "id": "RwcdmHKUXWsC"
      },
      "outputs": [],
      "source": [
        "train_scaled = X_train_bow\n",
        "test_scaled = X_test_bow"
      ]
    },
    {
      "cell_type": "code",
      "execution_count": null,
      "metadata": {
        "colab": {
          "base_uri": "https://localhost:8080/"
        },
        "id": "jYdmC2PmXjVJ",
        "outputId": "af97f594-ef52-4366-bb9a-4cb74d5f8a65"
      },
      "outputs": [
        {
          "output_type": "stream",
          "name": "stdout",
          "text": [
            "mse =  0.7990095397298606  & mae =  0.647719887962716  & rmse =  0.8938733353948201\n"
          ]
        }
      ],
      "source": [
        "#Train KNN\n",
        "from sklearn.neighbors import KNeighborsRegressor\n",
        "model = KNeighborsRegressor(n_jobs = -1)\n",
        "model.fit(train_scaled, y_train)\n",
        "from sklearn.metrics import mean_squared_error\n",
        "from sklearn.metrics import mean_absolute_error\n",
        "mse = mean_squared_error(y_train, model.predict(train_scaled))\n",
        "mae = mean_absolute_error(y_train, model.predict(train_scaled))\n",
        "from math import sqrt\n",
        "print(\"mse = \",mse,\" & mae = \",mae,\" & rmse = \", sqrt(mse))\n"
      ]
    },
    {
      "cell_type": "code",
      "execution_count": null,
      "metadata": {
        "colab": {
          "base_uri": "https://localhost:8080/"
        },
        "id": "6FGGK6mOXvsy",
        "outputId": "4efc0b61-970b-4e41-b7de-9cf0e218fd50"
      },
      "outputs": [
        {
          "output_type": "stream",
          "name": "stdout",
          "text": [
            "mse =  1.1812440830447335  & mae =  0.7774552419937878  & rmse =  1.0868505339027688\n"
          ]
        }
      ],
      "source": [
        "#Test KNN\n",
        "test_mse = mean_squared_error(y_test, model.predict(test_scaled))\n",
        "test_mae = mean_absolute_error(y_test, model.predict(test_scaled))\n",
        "print(\"mse = \",test_mse,\" & mae = \",test_mae,\" & rmse = \", sqrt(test_mse))"
      ]
    },
    {
      "cell_type": "markdown",
      "metadata": {
        "id": "YoNMzhX8FWgM"
      },
      "source": [
        "**Regression**"
      ]
    },
    {
      "cell_type": "code",
      "execution_count": null,
      "metadata": {
        "colab": {
          "base_uri": "https://localhost:8080/"
        },
        "id": "zfhbaOzx_oAc",
        "outputId": "19228af3-adb9-408d-8875-bfc9f1f6547a"
      },
      "outputs": [
        {
          "output_type": "stream",
          "name": "stdout",
          "text": [
            "1\n",
            "2\n",
            "3\n"
          ]
        }
      ],
      "source": [
        "# Linear Regression\n",
        "\n",
        "from sklearn.linear_model import LinearRegression\n",
        "print(1)\n",
        "modelLR = LinearRegression(n_jobs=-1)\n",
        "print(2)\n",
        "modelLR.fit(X_train_bow, y_train)\n",
        "print(3)"
      ]
    },
    {
      "cell_type": "code",
      "execution_count": null,
      "metadata": {
        "id": "PVTpGfeCAJoU"
      },
      "outputs": [],
      "source": [
        "#Train\n",
        "from sklearn.metrics import mean_squared_error\n",
        "from sklearn.metrics import mean_absolute_error\n",
        "\n",
        "mse = mean_squared_error(y_train, modelLR.predict(X_train_bow))\n",
        "mae = mean_absolute_error(y_train, modelLR.predict(X_train_bow))"
      ]
    },
    {
      "cell_type": "code",
      "execution_count": null,
      "metadata": {
        "colab": {
          "base_uri": "https://localhost:8080/"
        },
        "id": "vKA138vBAXxy",
        "outputId": "53172630-96f0-40b6-d18e-28012d1a6a40"
      },
      "outputs": [
        {
          "output_type": "stream",
          "name": "stdout",
          "text": [
            "mse =  0.00023410885003010253  & mae =  0.0002090034023623976  & rmse =  0.015300616001655049\n"
          ]
        }
      ],
      "source": [
        "from math import sqrt\n",
        "print(\"mse = \",mse,\" & mae = \",mae,\" & rmse = \", sqrt(mse))\n"
      ]
    },
    {
      "cell_type": "code",
      "execution_count": null,
      "metadata": {
        "colab": {
          "base_uri": "https://localhost:8080/"
        },
        "id": "c3h-uhYuAfd9",
        "outputId": "332ba650-ccc8-4007-e1af-4cb2c96f98b4"
      },
      "outputs": [
        {
          "output_type": "stream",
          "name": "stdout",
          "text": [
            "mse =  2.276293722073624  & mae =  1.1505877663287267  & rmse =  1.5087391166380038\n"
          ]
        }
      ],
      "source": [
        "# Test Results\n",
        "test_mse = mean_squared_error(y_test, modelLR.predict(X_test_bow))\n",
        "test_mae = mean_absolute_error(y_test, modelLR.predict(X_test_bow))\n",
        "print(\"mse = \",test_mse,\" & mae = \",test_mae,\" & rmse = \", sqrt(test_mse))"
      ]
    },
    {
      "cell_type": "markdown",
      "source": [
        "Random Forest"
      ],
      "metadata": {
        "id": "qvlibq8Pg2wL"
      }
    },
    {
      "cell_type": "code",
      "source": [
        "from sklearn.tree import DecisionTreeRegressor\n",
        "from sklearn.ensemble import RandomForestRegressor\n",
        "\n",
        "tree_model = DecisionTreeRegressor()\n",
        "tree_model.fit(X_train_bow, y_train)\n",
        "tree_mse = mean_squared_error(y_train, tree_model.predict(X_train_bow))\n",
        "tree_mae = mean_absolute_error(y_train, tree_model.predict(X_train_bow))\n",
        "print(\"Decision Tree training mse = \",tree_mse,\" & mae = \",tree_mae,\" & rmse = \", sqrt(tree_mse))\n",
        "\n",
        "rf_model = RandomForestRegressor(verbose=True, n_jobs = -1)\n",
        "\n",
        "rf_model.fit(X_train_bow, y_train)\n",
        "rf_mse = mean_squared_error(y_train, rf_model.predict(X_train_bow))\n",
        "rf_mae = mean_absolute_error(y_train, rf_model.predict(X_train_bow))\n",
        "\n",
        "print(\"Random Forest training mse = \",rf_mse,\" & mae = \",rf_mae,\" & rmse = \", sqrt(rf_mse))"
      ],
      "metadata": {
        "colab": {
          "base_uri": "https://localhost:8080/"
        },
        "id": "6eJOW61Eg4l2",
        "outputId": "2647d458-9755-4ce3-cbdb-f36d0b1e99c6"
      },
      "execution_count": null,
      "outputs": [
        {
          "output_type": "stream",
          "name": "stdout",
          "text": [
            "Decision Tree training mse =  0.00023410885002873112  & mae =  0.0002089747935995124  & rmse =  0.015300616001610234\n"
          ]
        },
        {
          "output_type": "stream",
          "name": "stderr",
          "text": [
            "[Parallel(n_jobs=-1)]: Using backend ThreadingBackend with 4 concurrent workers.\n",
            "[Parallel(n_jobs=-1)]: Done  42 tasks      | elapsed: 35.2min\n",
            "[Parallel(n_jobs=-1)]: Done 100 out of 100 | elapsed: 78.6min finished\n",
            "[Parallel(n_jobs=4)]: Using backend ThreadingBackend with 4 concurrent workers.\n",
            "[Parallel(n_jobs=4)]: Done  42 tasks      | elapsed:    0.8s\n",
            "[Parallel(n_jobs=4)]: Done 100 out of 100 | elapsed:    1.8s finished\n",
            "[Parallel(n_jobs=4)]: Using backend ThreadingBackend with 4 concurrent workers.\n",
            "[Parallel(n_jobs=4)]: Done  42 tasks      | elapsed:    0.8s\n"
          ]
        },
        {
          "output_type": "stream",
          "name": "stdout",
          "text": [
            "Random Forest training mse =  0.1322844481795036  & mae =  0.2627373806994951  & rmse =  0.36370929075224845\n"
          ]
        },
        {
          "output_type": "stream",
          "name": "stderr",
          "text": [
            "[Parallel(n_jobs=4)]: Done 100 out of 100 | elapsed:    1.8s finished\n"
          ]
        }
      ]
    },
    {
      "cell_type": "code",
      "source": [
        "#Test\n",
        "tree_test_mse = mean_squared_error(y_test, tree_model.predict(X_test_bow))\n",
        "tree_test_mae = mean_absolute_error(y_test, tree_model.predict(X_test_bow))\n",
        "print(tree_test_mse)\n",
        "print(tree_test_mae)\n",
        "rf_test_mse = mean_squared_error(y_test, rf_model.predict(X_test_bow))\n",
        "rf_test_mae = mean_absolute_error(y_test, rf_model.predict(X_test_bow))\n",
        "print(rf_test_mse)\n",
        "print(rf_test_mae)"
      ],
      "metadata": {
        "colab": {
          "base_uri": "https://localhost:8080/"
        },
        "id": "uElG1l2mlrEe",
        "outputId": "e9a30efe-0e0d-49ac-cf61-4df032ee1be4"
      },
      "execution_count": null,
      "outputs": [
        {
          "output_type": "stream",
          "name": "stdout",
          "text": [
            "1.8781527845080406\n",
            "1.0112080800569496\n"
          ]
        },
        {
          "output_type": "stream",
          "name": "stderr",
          "text": [
            "[Parallel(n_jobs=4)]: Using backend ThreadingBackend with 4 concurrent workers.\n",
            "[Parallel(n_jobs=4)]: Done  42 tasks      | elapsed:    0.5s\n",
            "[Parallel(n_jobs=4)]: Done 100 out of 100 | elapsed:    1.0s finished\n",
            "[Parallel(n_jobs=4)]: Using backend ThreadingBackend with 4 concurrent workers.\n",
            "[Parallel(n_jobs=4)]: Done  42 tasks      | elapsed:    0.5s\n"
          ]
        },
        {
          "output_type": "stream",
          "name": "stdout",
          "text": [
            "0.9843812018886476\n",
            "0.7027037569910877\n"
          ]
        },
        {
          "output_type": "stream",
          "name": "stderr",
          "text": [
            "[Parallel(n_jobs=4)]: Done 100 out of 100 | elapsed:    1.0s finished\n"
          ]
        }
      ]
    },
    {
      "cell_type": "markdown",
      "metadata": {
        "id": "4EKrFKWSYoFe"
      },
      "source": [
        "NN (simple)"
      ]
    },
    {
      "cell_type": "code",
      "source": [
        "print(X_train_bow.shape)\n",
        "print(X_test_bow.shape)\n",
        "print(y_train.shape)\n",
        "print(y_test.shape)\n",
        "print(type(X_train_bow))"
      ],
      "metadata": {
        "colab": {
          "base_uri": "https://localhost:8080/"
        },
        "id": "ZXO_ToFdaIHN",
        "outputId": "008f9049-6ada-4da9-cbed-90ca9ef7d0af"
      },
      "execution_count": null,
      "outputs": [
        {
          "output_type": "stream",
          "name": "stdout",
          "text": [
            "(11160, 33742)\n",
            "(6323, 33742)\n",
            "(11160,)\n",
            "(6323,)\n",
            "<class 'scipy.sparse.csr.csr_matrix'>\n"
          ]
        }
      ]
    },
    {
      "cell_type": "code",
      "source": [
        "from torch import nn\n",
        "from torch.utils.data import DataLoader\n",
        "train_data = []\n",
        "x, y, xTest, yTest = X_train_bow.toarray(), y_train.tolist(), X_test_bow.toarray(), y_test.tolist()\n",
        "\n",
        "x = torch.from_numpy(x)\n",
        "xTest = torch.from_numpy(xTest)\n",
        "x = x.type(torch.FloatTensor)\n",
        "xTest = xTest.type(torch.FloatTensor)\n",
        "\n",
        "#y = torch.from_numpy(y)\n",
        "y = torch.FloatTensor(y)\n",
        "trainloader = torch.utils.data.DataLoader([ [x[i], y[i]] for i in range(11160)], shuffle=True, batch_size=32)"
      ],
      "metadata": {
        "id": "ohbjSf5za18i"
      },
      "execution_count": null,
      "outputs": []
    },
    {
      "cell_type": "code",
      "source": [
        "# x = X_train_bow.toarray()\n",
        "# type(x)\n",
        "# y = y_train.tolist()"
      ],
      "metadata": {
        "id": "AOlMLWJ2cvhR"
      },
      "execution_count": null,
      "outputs": []
    },
    {
      "cell_type": "code",
      "source": [
        "import torch\n",
        "from torch.nn.functional import normalize\n",
        "\n",
        "#https://stackoverflow.com/questions/62372938/understanding-input-shape-to-pytorch-conv1d\n",
        "class NeuralNetwork(nn.Module):\n",
        "   def __init__(self):\n",
        "      super(NeuralNetwork, self).__init__()\n",
        "      #self.flatten = nn.Flatten(start_dim=1)\n",
        "      self.loss = nn.MSELoss()\n",
        "      self.linear_relu_stack = nn.Sequential(\n",
        "      nn.Linear(33742, 512),\n",
        "      nn.ReLU(),\n",
        "      nn.Linear(512, 128),\n",
        "      nn.ReLU(),\n",
        "      nn.Linear(128, 32),\n",
        "      nn.ReLU(),\n",
        "      nn.Linear(32, 1),\n",
        "      nn.ReLU()\n",
        "      )\n",
        "\n",
        "   def forward(self, x):\n",
        "      #transpose = x.permute(0,2,1)\n",
        "      #transpose = self.flatten(transpose)\n",
        "      #print('x before ', x)\n",
        "      x = normalize(x, p=2.0)\n",
        "      #print('x after ', x)\n",
        "      logits = self.linear_relu_stack(x)\n",
        "      #vol = normalize(logits, p=2.0)\n",
        "      return logits\n",
        "\n",
        "model = NeuralNetwork()\n",
        "#model.apply(initialize_weights)\n",
        "model.to(device)"
      ],
      "metadata": {
        "colab": {
          "base_uri": "https://localhost:8080/"
        },
        "id": "LlxGgmJmaDI-",
        "outputId": "fba821eb-4954-4448-ea51-c0f1c746a280"
      },
      "execution_count": null,
      "outputs": [
        {
          "output_type": "execute_result",
          "data": {
            "text/plain": [
              "NeuralNetwork(\n",
              "  (loss): MSELoss()\n",
              "  (linear_relu_stack): Sequential(\n",
              "    (0): Linear(in_features=33742, out_features=512, bias=True)\n",
              "    (1): ReLU()\n",
              "    (2): Linear(in_features=512, out_features=128, bias=True)\n",
              "    (3): ReLU()\n",
              "    (4): Linear(in_features=128, out_features=32, bias=True)\n",
              "    (5): ReLU()\n",
              "    (6): Linear(in_features=32, out_features=1, bias=True)\n",
              "    (7): ReLU()\n",
              "  )\n",
              ")"
            ]
          },
          "metadata": {},
          "execution_count": 79
        }
      ]
    },
    {
      "cell_type": "code",
      "source": [
        "#model params\n",
        "!pip install transformers\n",
        "import transformers \n",
        "from torch.optim import SGD\n",
        "from transformers import get_scheduler\n",
        "import torch.nn.functional as F\n",
        "\n",
        "optimizer = SGD(model.parameters(), lr=0.01, momentum=0.9)\n",
        "\n",
        "num_epochs = 1000\n",
        "num_training_steps = num_epochs * len(trainloader)\n",
        "lr_scheduler = get_scheduler(\n",
        "    name=\"linear\", optimizer=optimizer, num_warmup_steps=0, num_training_steps=num_training_steps\n",
        ")\n",
        "\n",
        "device = torch.device(\"cuda\") if torch.cuda.is_available() else torch.device(\"cpu\")"
      ],
      "metadata": {
        "colab": {
          "base_uri": "https://localhost:8080/"
        },
        "id": "cR5Up8jaa_tz",
        "outputId": "e2569e50-94ba-4fb3-ccd7-4160ba25d6e3"
      },
      "execution_count": null,
      "outputs": [
        {
          "output_type": "stream",
          "name": "stdout",
          "text": [
            "Requirement already satisfied: transformers in /usr/local/lib/python3.7/dist-packages (4.17.0)\n",
            "Requirement already satisfied: importlib-metadata in /usr/local/lib/python3.7/dist-packages (from transformers) (4.11.2)\n",
            "Requirement already satisfied: requests in /usr/local/lib/python3.7/dist-packages (from transformers) (2.23.0)\n",
            "Requirement already satisfied: tokenizers!=0.11.3,>=0.11.1 in /usr/local/lib/python3.7/dist-packages (from transformers) (0.11.6)\n",
            "Requirement already satisfied: pyyaml>=5.1 in /usr/local/lib/python3.7/dist-packages (from transformers) (6.0)\n",
            "Requirement already satisfied: numpy>=1.17 in /usr/local/lib/python3.7/dist-packages (from transformers) (1.21.5)\n",
            "Requirement already satisfied: sacremoses in /usr/local/lib/python3.7/dist-packages (from transformers) (0.0.47)\n",
            "Requirement already satisfied: huggingface-hub<1.0,>=0.1.0 in /usr/local/lib/python3.7/dist-packages (from transformers) (0.4.0)\n",
            "Requirement already satisfied: regex!=2019.12.17 in /usr/local/lib/python3.7/dist-packages (from transformers) (2019.12.20)\n",
            "Requirement already satisfied: packaging>=20.0 in /usr/local/lib/python3.7/dist-packages (from transformers) (21.3)\n",
            "Requirement already satisfied: filelock in /usr/local/lib/python3.7/dist-packages (from transformers) (3.6.0)\n",
            "Requirement already satisfied: tqdm>=4.27 in /usr/local/lib/python3.7/dist-packages (from transformers) (4.63.0)\n",
            "Requirement already satisfied: typing-extensions>=3.7.4.3 in /usr/local/lib/python3.7/dist-packages (from huggingface-hub<1.0,>=0.1.0->transformers) (3.10.0.2)\n",
            "Requirement already satisfied: pyparsing!=3.0.5,>=2.0.2 in /usr/local/lib/python3.7/dist-packages (from packaging>=20.0->transformers) (3.0.7)\n",
            "Requirement already satisfied: zipp>=0.5 in /usr/local/lib/python3.7/dist-packages (from importlib-metadata->transformers) (3.7.0)\n",
            "Requirement already satisfied: certifi>=2017.4.17 in /usr/local/lib/python3.7/dist-packages (from requests->transformers) (2021.10.8)\n",
            "Requirement already satisfied: chardet<4,>=3.0.2 in /usr/local/lib/python3.7/dist-packages (from requests->transformers) (3.0.4)\n",
            "Requirement already satisfied: urllib3!=1.25.0,!=1.25.1,<1.26,>=1.21.1 in /usr/local/lib/python3.7/dist-packages (from requests->transformers) (1.24.3)\n",
            "Requirement already satisfied: idna<3,>=2.5 in /usr/local/lib/python3.7/dist-packages (from requests->transformers) (2.10)\n",
            "Requirement already satisfied: click in /usr/local/lib/python3.7/dist-packages (from sacremoses->transformers) (7.1.2)\n",
            "Requirement already satisfied: six in /usr/local/lib/python3.7/dist-packages (from sacremoses->transformers) (1.15.0)\n",
            "Requirement already satisfied: joblib in /usr/local/lib/python3.7/dist-packages (from sacremoses->transformers) (1.1.0)\n"
          ]
        }
      ]
    },
    {
      "cell_type": "code",
      "execution_count": 105,
      "metadata": {
        "id": "J_kRijrrYqpw",
        "colab": {
          "base_uri": "https://localhost:8080/",
          "height": 1000,
          "referenced_widgets": [
            "78047333c2f7459a81a984c7583e5e82",
            "80b59c72b170493189746f91d054999f",
            "a50112c13dc148a5a7486036c6b11d82",
            "36ed50cddcbc49308a365807bcc58645",
            "01d1d7e7ae5a4490b1685f41f04d3cb9",
            "7773461e4d014776ace94e4d009834d3",
            "638b1d44f3d14079ae9a4f0c70eace4a",
            "3eed1fc9a7dc4f2a985962f695f11852",
            "d1b9eaab7d60410c9389536322298345",
            "f9643421cd184c039b9a117215acf4f9",
            "d150327c9fed432faf07f6ab4e4ce789"
          ]
        },
        "outputId": "82e22c3a-bcff-4e45-dbb0-4bc944ede106"
      },
      "outputs": [
        {
          "output_type": "display_data",
          "data": {
            "text/plain": [
              "  0%|          | 0/349000 [00:00<?, ?it/s]"
            ],
            "application/vnd.jupyter.widget-view+json": {
              "version_major": 2,
              "version_minor": 0,
              "model_id": "78047333c2f7459a81a984c7583e5e82"
            }
          },
          "metadata": {}
        },
        {
          "output_type": "stream",
          "name": "stderr",
          "text": [
            "/usr/local/lib/python3.7/dist-packages/torch/nn/modules/loss.py:520: UserWarning: Using a target size (torch.Size([32])) that is different to the input size (torch.Size([32, 1])). This will likely lead to incorrect results due to broadcasting. Please ensure they have the same size.\n",
            "  return F.mse_loss(input, target, reduction=self.reduction)\n",
            "/usr/local/lib/python3.7/dist-packages/torch/nn/modules/loss.py:520: UserWarning: Using a target size (torch.Size([24])) that is different to the input size (torch.Size([24, 1])). This will likely lead to incorrect results due to broadcasting. Please ensure they have the same size.\n",
            "  return F.mse_loss(input, target, reduction=self.reduction)\n"
          ]
        },
        {
          "output_type": "stream",
          "name": "stdout",
          "text": [
            "tensor(0.7251, grad_fn=<ToCopyBackward0>)\n",
            "tensor([[0.],\n",
            "        [0.],\n",
            "        [0.],\n",
            "        [0.],\n",
            "        [0.],\n",
            "        [0.],\n",
            "        [0.],\n",
            "        [0.],\n",
            "        [0.],\n",
            "        [0.],\n",
            "        [0.],\n",
            "        [0.],\n",
            "        [0.],\n",
            "        [0.],\n",
            "        [0.],\n",
            "        [0.],\n",
            "        [0.],\n",
            "        [0.],\n",
            "        [0.],\n",
            "        [0.],\n",
            "        [0.],\n",
            "        [0.],\n",
            "        [0.],\n",
            "        [0.]], device='cuda:0', grad_fn=<ReluBackward0>) tensor([-0.8136,  0.1854, -1.0295, -0.6646, -0.5358, -2.1860, -0.0965,  0.1427,\n",
            "        -0.8005, -0.5039, -0.3129,  0.2910, -0.0523, -0.7752,  1.7968, -0.3778,\n",
            "        -0.1772,  0.8724,  0.1639, -1.0310,  0.1259,  1.7201, -0.1150, -0.4313])\n",
            "tensor(0.4881, grad_fn=<ToCopyBackward0>)\n",
            "tensor([[0.],\n",
            "        [0.],\n",
            "        [0.],\n",
            "        [0.],\n",
            "        [0.],\n",
            "        [0.],\n",
            "        [0.],\n",
            "        [0.],\n",
            "        [0.],\n",
            "        [0.],\n",
            "        [0.],\n",
            "        [0.],\n",
            "        [0.],\n",
            "        [0.],\n",
            "        [0.],\n",
            "        [0.],\n",
            "        [0.],\n",
            "        [0.],\n",
            "        [0.],\n",
            "        [0.],\n",
            "        [0.],\n",
            "        [0.],\n",
            "        [0.],\n",
            "        [0.]], device='cuda:0', grad_fn=<ReluBackward0>) tensor([-0.0682, -0.6548,  0.0799,  1.1438,  0.5107, -0.5700,  0.9600,  1.2970,\n",
            "        -0.3535,  0.8428, -0.3307,  0.5046,  0.2809, -0.2167, -0.1057, -0.2548,\n",
            "         0.9021,  0.1916,  0.5718,  0.3790,  0.1838, -0.2507,  0.2322,  1.9758])\n",
            "tensor(1.9457, grad_fn=<ToCopyBackward0>)\n",
            "tensor([[0.],\n",
            "        [0.],\n",
            "        [0.],\n",
            "        [0.],\n",
            "        [0.],\n",
            "        [0.],\n",
            "        [0.],\n",
            "        [0.],\n",
            "        [0.],\n",
            "        [0.],\n",
            "        [0.],\n",
            "        [0.],\n",
            "        [0.],\n",
            "        [0.],\n",
            "        [0.],\n",
            "        [0.],\n",
            "        [0.],\n",
            "        [0.],\n",
            "        [0.],\n",
            "        [0.],\n",
            "        [0.],\n",
            "        [0.],\n",
            "        [0.],\n",
            "        [0.]], device='cuda:0', grad_fn=<ReluBackward0>) tensor([-0.9047, -0.0422, -0.4804, -0.7673, -0.7245,  0.2491, -0.5310, -1.8662,\n",
            "        -0.1837, -0.6431,  1.6207, -0.3389,  0.8877, -1.1365, -4.3565,  2.0854,\n",
            "         0.9025,  0.3439, -2.7415,  0.7623, -0.9362,  0.0362,  1.2979, -0.7194])\n",
            "tensor(1.6933, grad_fn=<ToCopyBackward0>)\n",
            "tensor([[0.],\n",
            "        [0.],\n",
            "        [0.],\n",
            "        [0.],\n",
            "        [0.],\n",
            "        [0.],\n",
            "        [0.],\n",
            "        [0.],\n",
            "        [0.],\n",
            "        [0.],\n",
            "        [0.],\n",
            "        [0.],\n",
            "        [0.],\n",
            "        [0.],\n",
            "        [0.],\n",
            "        [0.],\n",
            "        [0.],\n",
            "        [0.],\n",
            "        [0.],\n",
            "        [0.],\n",
            "        [0.],\n",
            "        [0.],\n",
            "        [0.],\n",
            "        [0.]], device='cuda:0', grad_fn=<ReluBackward0>) tensor([-2.2661e+00,  1.3592e-01, -1.6871e+00, -1.5631e-01, -6.9493e-01,\n",
            "         1.0159e+00,  5.3731e-01,  9.5138e-02, -8.0890e-01,  1.3128e+00,\n",
            "         2.2947e-01,  1.1564e+00, -4.4188e+00, -4.3133e-01,  1.0821e+00,\n",
            "        -2.2029e-03,  1.6961e-01, -3.5047e-01, -1.1094e+00,  9.6364e-02,\n",
            "        -1.1195e+00,  1.5168e+00, -4.9362e-01,  9.8047e-01])\n"
          ]
        },
        {
          "output_type": "error",
          "ename": "KeyboardInterrupt",
          "evalue": "ignored",
          "traceback": [
            "\u001b[0;31m---------------------------------------------------------------------------\u001b[0m",
            "\u001b[0;31mKeyboardInterrupt\u001b[0m                         Traceback (most recent call last)",
            "\u001b[0;32m<ipython-input-105-1e8de3e12228>\u001b[0m in \u001b[0;36m<module>\u001b[0;34m()\u001b[0m\n\u001b[1;32m     19\u001b[0m         \u001b[0mloss\u001b[0m \u001b[0;34m=\u001b[0m \u001b[0mcriterion\u001b[0m\u001b[0;34m(\u001b[0m\u001b[0moutputs\u001b[0m\u001b[0;34m,\u001b[0m \u001b[0my\u001b[0m\u001b[0;34m.\u001b[0m\u001b[0mto\u001b[0m\u001b[0;34m(\u001b[0m\u001b[0mdevice\u001b[0m\u001b[0;34m)\u001b[0m\u001b[0;34m)\u001b[0m\u001b[0;34m\u001b[0m\u001b[0;34m\u001b[0m\u001b[0m\n\u001b[1;32m     20\u001b[0m         \u001b[0mloss\u001b[0m \u001b[0;34m=\u001b[0m \u001b[0mloss\u001b[0m\u001b[0;34m.\u001b[0m\u001b[0mtype\u001b[0m\u001b[0;34m(\u001b[0m\u001b[0mtorch\u001b[0m\u001b[0;34m.\u001b[0m\u001b[0mFloatTensor\u001b[0m\u001b[0;34m)\u001b[0m\u001b[0;34m\u001b[0m\u001b[0;34m\u001b[0m\u001b[0m\n\u001b[0;32m---> 21\u001b[0;31m         \u001b[0mloss\u001b[0m\u001b[0;34m.\u001b[0m\u001b[0mbackward\u001b[0m\u001b[0;34m(\u001b[0m\u001b[0mretain_graph\u001b[0m\u001b[0;34m=\u001b[0m\u001b[0;32mTrue\u001b[0m\u001b[0;34m)\u001b[0m\u001b[0;34m\u001b[0m\u001b[0;34m\u001b[0m\u001b[0m\n\u001b[0m\u001b[1;32m     22\u001b[0m \u001b[0;34m\u001b[0m\u001b[0m\n\u001b[1;32m     23\u001b[0m         \u001b[0moptimizer\u001b[0m\u001b[0;34m.\u001b[0m\u001b[0mstep\u001b[0m\u001b[0;34m(\u001b[0m\u001b[0;34m)\u001b[0m\u001b[0;34m\u001b[0m\u001b[0;34m\u001b[0m\u001b[0m\n",
            "\u001b[0;32m/usr/local/lib/python3.7/dist-packages/torch/_tensor.py\u001b[0m in \u001b[0;36mbackward\u001b[0;34m(self, gradient, retain_graph, create_graph, inputs)\u001b[0m\n\u001b[1;32m    305\u001b[0m                 \u001b[0mcreate_graph\u001b[0m\u001b[0;34m=\u001b[0m\u001b[0mcreate_graph\u001b[0m\u001b[0;34m,\u001b[0m\u001b[0;34m\u001b[0m\u001b[0;34m\u001b[0m\u001b[0m\n\u001b[1;32m    306\u001b[0m                 inputs=inputs)\n\u001b[0;32m--> 307\u001b[0;31m         \u001b[0mtorch\u001b[0m\u001b[0;34m.\u001b[0m\u001b[0mautograd\u001b[0m\u001b[0;34m.\u001b[0m\u001b[0mbackward\u001b[0m\u001b[0;34m(\u001b[0m\u001b[0mself\u001b[0m\u001b[0;34m,\u001b[0m \u001b[0mgradient\u001b[0m\u001b[0;34m,\u001b[0m \u001b[0mretain_graph\u001b[0m\u001b[0;34m,\u001b[0m \u001b[0mcreate_graph\u001b[0m\u001b[0;34m,\u001b[0m \u001b[0minputs\u001b[0m\u001b[0;34m=\u001b[0m\u001b[0minputs\u001b[0m\u001b[0;34m)\u001b[0m\u001b[0;34m\u001b[0m\u001b[0;34m\u001b[0m\u001b[0m\n\u001b[0m\u001b[1;32m    308\u001b[0m \u001b[0;34m\u001b[0m\u001b[0m\n\u001b[1;32m    309\u001b[0m     \u001b[0;32mdef\u001b[0m \u001b[0mregister_hook\u001b[0m\u001b[0;34m(\u001b[0m\u001b[0mself\u001b[0m\u001b[0;34m,\u001b[0m \u001b[0mhook\u001b[0m\u001b[0;34m)\u001b[0m\u001b[0;34m:\u001b[0m\u001b[0;34m\u001b[0m\u001b[0;34m\u001b[0m\u001b[0m\n",
            "\u001b[0;32m/usr/local/lib/python3.7/dist-packages/torch/autograd/__init__.py\u001b[0m in \u001b[0;36mbackward\u001b[0;34m(tensors, grad_tensors, retain_graph, create_graph, grad_variables, inputs)\u001b[0m\n\u001b[1;32m    154\u001b[0m     Variable._execution_engine.run_backward(\n\u001b[1;32m    155\u001b[0m         \u001b[0mtensors\u001b[0m\u001b[0;34m,\u001b[0m \u001b[0mgrad_tensors_\u001b[0m\u001b[0;34m,\u001b[0m \u001b[0mretain_graph\u001b[0m\u001b[0;34m,\u001b[0m \u001b[0mcreate_graph\u001b[0m\u001b[0;34m,\u001b[0m \u001b[0minputs\u001b[0m\u001b[0;34m,\u001b[0m\u001b[0;34m\u001b[0m\u001b[0;34m\u001b[0m\u001b[0m\n\u001b[0;32m--> 156\u001b[0;31m         allow_unreachable=True, accumulate_grad=True)  # allow_unreachable flag\n\u001b[0m\u001b[1;32m    157\u001b[0m \u001b[0;34m\u001b[0m\u001b[0m\n\u001b[1;32m    158\u001b[0m \u001b[0;34m\u001b[0m\u001b[0m\n",
            "\u001b[0;31mKeyboardInterrupt\u001b[0m: "
          ]
        }
      ],
      "source": [
        "import torch \n",
        "device = \"cuda:0\" if torch.cuda.is_available() else \"cpu\"\n",
        "\n",
        "#from sklearn.neural_network import MLPClassifier\n",
        "#model = MLPClassifier(verbose=True)\n",
        "# model = model.to(device)\n",
        "#model.fit(X_train_bow, y_train)\n",
        "\n",
        "from tqdm.auto import tqdm\n",
        "\n",
        "progress_bar = tqdm(range(num_training_steps))\n",
        "criterion = nn.MSELoss()\n",
        "model.train()\n",
        "losses = []\n",
        "\n",
        "for epoch in range(num_epochs):\n",
        "    for batch, y in trainloader:\n",
        "        outputs = model(batch.to(device))\n",
        "        loss = criterion(outputs, y.to(device))\n",
        "        loss = loss.type(torch.FloatTensor)\n",
        "        loss.backward(retain_graph=True)\n",
        "      \n",
        "        optimizer.step()\n",
        "        lr_scheduler.step()\n",
        "        optimizer.zero_grad()\n",
        "        progress_bar.update(1)\n",
        "    losses.append(loss)\n",
        "    print(loss)\n",
        "    print(outputs, y)\n",
        "\n",
        "from sklearn.metrics import accuracy_score\n",
        "accuracy_score(y_train, model.predict(X_train_bow))\n",
        "accuracy_score(y_test, model.predict(X_test_bow))\n",
        "\n",
        "train_mse = mean_squared_error(y_train, model.predict(X_train_bow))\n",
        "test_mse = mean_squared_error(y_test, model.predict(X_test_bow))\n",
        "print(train_mse)\n",
        "print(test_mse)\n",
        "train_mae = mean_absolute_error(y_train, model.predict(X_train_bow))\n",
        "test_mae = mean_absolute_error(y_test, model.predict(X_test_bow))\n",
        "print(train_mse)\n",
        "print(test_mse)"
      ]
    },
    {
      "cell_type": "code",
      "source": [
        "with torch.no_grad():\n",
        "    \n",
        "    outputs = model(xTest.to(device))\n",
        "    print('outputs: ', outputs)\n",
        "    print(outputs.shape, yTest.shape)\n",
        "    print('yTest: ', yTest)\n",
        "    loss = criterion(yTest.to(device), outputs)\n",
        "    print('loss : ', loss)\n",
        "    print(loss.shape)\n",
        "    x = loss\n",
        "    mae = mean_absolute_error(yTest.cpu(), outputs.cpu())\n",
        "    print('mae: ', mae)"
      ],
      "metadata": {
        "id": "TsjoFkxKA_ef",
        "colab": {
          "base_uri": "https://localhost:8080/"
        },
        "outputId": "590f9b04-0730-4806-99cc-7366f4417e0a"
      },
      "execution_count": 111,
      "outputs": [
        {
          "output_type": "stream",
          "name": "stdout",
          "text": [
            "outputs:  tensor([[0.],\n",
            "        [0.],\n",
            "        [0.],\n",
            "        ...,\n",
            "        [0.],\n",
            "        [0.],\n",
            "        [0.]], device='cuda:0')\n",
            "torch.Size([6323, 1]) torch.Size([6323])\n",
            "yTest:  tensor([-2.7780, -0.3929,  0.6856,  ...,  1.2149, -0.3321,  0.2503])\n",
            "loss :  tensor(0.9998, device='cuda:0')\n",
            "torch.Size([])\n",
            "mae:  0.7044272\n"
          ]
        },
        {
          "output_type": "stream",
          "name": "stderr",
          "text": [
            "/usr/local/lib/python3.7/dist-packages/torch/nn/modules/loss.py:520: UserWarning: Using a target size (torch.Size([6323, 1])) that is different to the input size (torch.Size([6323])). This will likely lead to incorrect results due to broadcasting. Please ensure they have the same size.\n",
            "  return F.mse_loss(input, target, reduction=self.reduction)\n"
          ]
        }
      ]
    },
    {
      "cell_type": "markdown",
      "source": [
        "Appendix"
      ],
      "metadata": {
        "id": "e0raubOr1q1T"
      }
    }
  ],
  "metadata": {
    "accelerator": "GPU",
    "colab": {
      "machine_shape": "hm",
      "name": "technicalApproaches.ipynb",
      "provenance": [],
      "collapsed_sections": []
    },
    "kernelspec": {
      "display_name": "Python 3",
      "name": "python3"
    },
    "language_info": {
      "name": "python"
    },
    "widgets": {
      "application/vnd.jupyter.widget-state+json": {
        "78047333c2f7459a81a984c7583e5e82": {
          "model_module": "@jupyter-widgets/controls",
          "model_name": "HBoxModel",
          "model_module_version": "1.5.0",
          "state": {
            "_dom_classes": [],
            "_model_module": "@jupyter-widgets/controls",
            "_model_module_version": "1.5.0",
            "_model_name": "HBoxModel",
            "_view_count": null,
            "_view_module": "@jupyter-widgets/controls",
            "_view_module_version": "1.5.0",
            "_view_name": "HBoxView",
            "box_style": "",
            "children": [
              "IPY_MODEL_80b59c72b170493189746f91d054999f",
              "IPY_MODEL_a50112c13dc148a5a7486036c6b11d82",
              "IPY_MODEL_36ed50cddcbc49308a365807bcc58645"
            ],
            "layout": "IPY_MODEL_01d1d7e7ae5a4490b1685f41f04d3cb9"
          }
        },
        "80b59c72b170493189746f91d054999f": {
          "model_module": "@jupyter-widgets/controls",
          "model_name": "HTMLModel",
          "model_module_version": "1.5.0",
          "state": {
            "_dom_classes": [],
            "_model_module": "@jupyter-widgets/controls",
            "_model_module_version": "1.5.0",
            "_model_name": "HTMLModel",
            "_view_count": null,
            "_view_module": "@jupyter-widgets/controls",
            "_view_module_version": "1.5.0",
            "_view_name": "HTMLView",
            "description": "",
            "description_tooltip": null,
            "layout": "IPY_MODEL_7773461e4d014776ace94e4d009834d3",
            "placeholder": "​",
            "style": "IPY_MODEL_638b1d44f3d14079ae9a4f0c70eace4a",
            "value": "  0%"
          }
        },
        "a50112c13dc148a5a7486036c6b11d82": {
          "model_module": "@jupyter-widgets/controls",
          "model_name": "FloatProgressModel",
          "model_module_version": "1.5.0",
          "state": {
            "_dom_classes": [],
            "_model_module": "@jupyter-widgets/controls",
            "_model_module_version": "1.5.0",
            "_model_name": "FloatProgressModel",
            "_view_count": null,
            "_view_module": "@jupyter-widgets/controls",
            "_view_module_version": "1.5.0",
            "_view_name": "ProgressView",
            "bar_style": "",
            "description": "",
            "description_tooltip": null,
            "layout": "IPY_MODEL_3eed1fc9a7dc4f2a985962f695f11852",
            "max": 349000,
            "min": 0,
            "orientation": "horizontal",
            "style": "IPY_MODEL_d1b9eaab7d60410c9389536322298345",
            "value": 1619
          }
        },
        "36ed50cddcbc49308a365807bcc58645": {
          "model_module": "@jupyter-widgets/controls",
          "model_name": "HTMLModel",
          "model_module_version": "1.5.0",
          "state": {
            "_dom_classes": [],
            "_model_module": "@jupyter-widgets/controls",
            "_model_module_version": "1.5.0",
            "_model_name": "HTMLModel",
            "_view_count": null,
            "_view_module": "@jupyter-widgets/controls",
            "_view_module_version": "1.5.0",
            "_view_name": "HTMLView",
            "description": "",
            "description_tooltip": null,
            "layout": "IPY_MODEL_f9643421cd184c039b9a117215acf4f9",
            "placeholder": "​",
            "style": "IPY_MODEL_d150327c9fed432faf07f6ab4e4ce789",
            "value": " 1619/349000 [00:25&lt;25:40, 225.55it/s]"
          }
        },
        "01d1d7e7ae5a4490b1685f41f04d3cb9": {
          "model_module": "@jupyter-widgets/base",
          "model_name": "LayoutModel",
          "model_module_version": "1.2.0",
          "state": {
            "_model_module": "@jupyter-widgets/base",
            "_model_module_version": "1.2.0",
            "_model_name": "LayoutModel",
            "_view_count": null,
            "_view_module": "@jupyter-widgets/base",
            "_view_module_version": "1.2.0",
            "_view_name": "LayoutView",
            "align_content": null,
            "align_items": null,
            "align_self": null,
            "border": null,
            "bottom": null,
            "display": null,
            "flex": null,
            "flex_flow": null,
            "grid_area": null,
            "grid_auto_columns": null,
            "grid_auto_flow": null,
            "grid_auto_rows": null,
            "grid_column": null,
            "grid_gap": null,
            "grid_row": null,
            "grid_template_areas": null,
            "grid_template_columns": null,
            "grid_template_rows": null,
            "height": null,
            "justify_content": null,
            "justify_items": null,
            "left": null,
            "margin": null,
            "max_height": null,
            "max_width": null,
            "min_height": null,
            "min_width": null,
            "object_fit": null,
            "object_position": null,
            "order": null,
            "overflow": null,
            "overflow_x": null,
            "overflow_y": null,
            "padding": null,
            "right": null,
            "top": null,
            "visibility": null,
            "width": null
          }
        },
        "7773461e4d014776ace94e4d009834d3": {
          "model_module": "@jupyter-widgets/base",
          "model_name": "LayoutModel",
          "model_module_version": "1.2.0",
          "state": {
            "_model_module": "@jupyter-widgets/base",
            "_model_module_version": "1.2.0",
            "_model_name": "LayoutModel",
            "_view_count": null,
            "_view_module": "@jupyter-widgets/base",
            "_view_module_version": "1.2.0",
            "_view_name": "LayoutView",
            "align_content": null,
            "align_items": null,
            "align_self": null,
            "border": null,
            "bottom": null,
            "display": null,
            "flex": null,
            "flex_flow": null,
            "grid_area": null,
            "grid_auto_columns": null,
            "grid_auto_flow": null,
            "grid_auto_rows": null,
            "grid_column": null,
            "grid_gap": null,
            "grid_row": null,
            "grid_template_areas": null,
            "grid_template_columns": null,
            "grid_template_rows": null,
            "height": null,
            "justify_content": null,
            "justify_items": null,
            "left": null,
            "margin": null,
            "max_height": null,
            "max_width": null,
            "min_height": null,
            "min_width": null,
            "object_fit": null,
            "object_position": null,
            "order": null,
            "overflow": null,
            "overflow_x": null,
            "overflow_y": null,
            "padding": null,
            "right": null,
            "top": null,
            "visibility": null,
            "width": null
          }
        },
        "638b1d44f3d14079ae9a4f0c70eace4a": {
          "model_module": "@jupyter-widgets/controls",
          "model_name": "DescriptionStyleModel",
          "model_module_version": "1.5.0",
          "state": {
            "_model_module": "@jupyter-widgets/controls",
            "_model_module_version": "1.5.0",
            "_model_name": "DescriptionStyleModel",
            "_view_count": null,
            "_view_module": "@jupyter-widgets/base",
            "_view_module_version": "1.2.0",
            "_view_name": "StyleView",
            "description_width": ""
          }
        },
        "3eed1fc9a7dc4f2a985962f695f11852": {
          "model_module": "@jupyter-widgets/base",
          "model_name": "LayoutModel",
          "model_module_version": "1.2.0",
          "state": {
            "_model_module": "@jupyter-widgets/base",
            "_model_module_version": "1.2.0",
            "_model_name": "LayoutModel",
            "_view_count": null,
            "_view_module": "@jupyter-widgets/base",
            "_view_module_version": "1.2.0",
            "_view_name": "LayoutView",
            "align_content": null,
            "align_items": null,
            "align_self": null,
            "border": null,
            "bottom": null,
            "display": null,
            "flex": null,
            "flex_flow": null,
            "grid_area": null,
            "grid_auto_columns": null,
            "grid_auto_flow": null,
            "grid_auto_rows": null,
            "grid_column": null,
            "grid_gap": null,
            "grid_row": null,
            "grid_template_areas": null,
            "grid_template_columns": null,
            "grid_template_rows": null,
            "height": null,
            "justify_content": null,
            "justify_items": null,
            "left": null,
            "margin": null,
            "max_height": null,
            "max_width": null,
            "min_height": null,
            "min_width": null,
            "object_fit": null,
            "object_position": null,
            "order": null,
            "overflow": null,
            "overflow_x": null,
            "overflow_y": null,
            "padding": null,
            "right": null,
            "top": null,
            "visibility": null,
            "width": null
          }
        },
        "d1b9eaab7d60410c9389536322298345": {
          "model_module": "@jupyter-widgets/controls",
          "model_name": "ProgressStyleModel",
          "model_module_version": "1.5.0",
          "state": {
            "_model_module": "@jupyter-widgets/controls",
            "_model_module_version": "1.5.0",
            "_model_name": "ProgressStyleModel",
            "_view_count": null,
            "_view_module": "@jupyter-widgets/base",
            "_view_module_version": "1.2.0",
            "_view_name": "StyleView",
            "bar_color": null,
            "description_width": ""
          }
        },
        "f9643421cd184c039b9a117215acf4f9": {
          "model_module": "@jupyter-widgets/base",
          "model_name": "LayoutModel",
          "model_module_version": "1.2.0",
          "state": {
            "_model_module": "@jupyter-widgets/base",
            "_model_module_version": "1.2.0",
            "_model_name": "LayoutModel",
            "_view_count": null,
            "_view_module": "@jupyter-widgets/base",
            "_view_module_version": "1.2.0",
            "_view_name": "LayoutView",
            "align_content": null,
            "align_items": null,
            "align_self": null,
            "border": null,
            "bottom": null,
            "display": null,
            "flex": null,
            "flex_flow": null,
            "grid_area": null,
            "grid_auto_columns": null,
            "grid_auto_flow": null,
            "grid_auto_rows": null,
            "grid_column": null,
            "grid_gap": null,
            "grid_row": null,
            "grid_template_areas": null,
            "grid_template_columns": null,
            "grid_template_rows": null,
            "height": null,
            "justify_content": null,
            "justify_items": null,
            "left": null,
            "margin": null,
            "max_height": null,
            "max_width": null,
            "min_height": null,
            "min_width": null,
            "object_fit": null,
            "object_position": null,
            "order": null,
            "overflow": null,
            "overflow_x": null,
            "overflow_y": null,
            "padding": null,
            "right": null,
            "top": null,
            "visibility": null,
            "width": null
          }
        },
        "d150327c9fed432faf07f6ab4e4ce789": {
          "model_module": "@jupyter-widgets/controls",
          "model_name": "DescriptionStyleModel",
          "model_module_version": "1.5.0",
          "state": {
            "_model_module": "@jupyter-widgets/controls",
            "_model_module_version": "1.5.0",
            "_model_name": "DescriptionStyleModel",
            "_view_count": null,
            "_view_module": "@jupyter-widgets/base",
            "_view_module_version": "1.2.0",
            "_view_name": "StyleView",
            "description_width": ""
          }
        }
      }
    }
  },
  "nbformat": 4,
  "nbformat_minor": 0
}